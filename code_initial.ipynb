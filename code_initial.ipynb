{
 "cells": [
  {
   "cell_type": "code",
   "execution_count": 253,
   "metadata": {},
   "outputs": [],
   "source": [
    "from bs4 import BeautifulSoup,Comment\n",
    "import urllib.request\n",
    "import pandas as pd\n",
    "import requests\n",
    "import numpy as np\n",
    "import matplotlib.pyplot as plt"
   ]
  },
  {
   "cell_type": "code",
   "execution_count": 81,
   "metadata": {},
   "outputs": [],
   "source": [
    "#to get soup for 2020 team offense using Comment, used below\n",
    "url = \"https://www.pro-football-reference.com/years/2020/\"\n",
    "soup = BeautifulSoup(requests.get(url).content, 'html.parser')\n",
    "table = soup.select_one('#all_team_stats').find_next(text=lambda t: isinstance(t, Comment))\n",
    "table = BeautifulSoup(table, 'html.parser')\n",
    "\n"
   ]
  },
  {
   "cell_type": "code",
   "execution_count": 246,
   "metadata": {},
   "outputs": [
    {
     "data": {
      "text/plain": [
       "'<div class=\"table_container\" id=\"div_team_stats\">\\n <table class=\"per_match_toggle sortable stats_table\" data-cols-to-freeze=\",2\" id=\"team_stats\">\\n  <caption>\\n   Team Offense Table\\n  </caption>\\n  <colgroup>\\n   <col/>\\n   <col/>\\n   <col/>\\n   <col/>\\n   <col/>\\n   <col/>\\n   <col/>\\n   <col/>\\n   <col/>\\n   <col/>\\n   <col/>\\n   <col/>\\n   <col/>\\n   <col/>\\n   <col/>\\n   <col/>\\n   <col/>\\n   <col/>\\n   <col/>\\n   <col/>\\n   <col/>\\n   <col/>\\n   <col/>\\n   <col/>\\n   <col/>\\n   <col/>\\n   <col/>\\n   <col/>\\n  </colgroup>\\n  <thead>\\n   <tr class=\"over_header\">\\n    <th aria-label=\"\" class=\"over_header center\" colspan=\"2\" data-stat=\"\">\\n    </th>\\n    <th>\\n    </th>\\n    <th>\\n    </th>\\n    <th>\\n    </th>\\n    <th aria-label=\"\" class=\"over_header center\" colspan=\"3\" data-stat=\"header_tot_off_tgl\">\\n     Tot Yds &amp; TO\\n    </th>\\n    <th>\\n    </th>\\n    <th>\\n    </th>\\n    <th aria-label=\"\" class=\"over_header center\" colspan=\"7\" data-stat=\"header_pass\">\\n     Passing\\n    </th>\\n    <th aria-label=\"\" class=\"over_header center\" colspan=\"5\" data-stat=\"header_rush\">\\n     Rushing\\n    </th>\\n    <th aria-label=\"\" class=\"over_header center\" colspan=\"3\" data-stat=\"header_penalties\">\\n     Penalties\\n    </th>\\n    <th aria-label=\"\" class=\"over_header center\" colspan=\"2\" data-stat=\"\">\\n    </th>\\n    <th>\\n    </th>\\n   </tr>\\n   <tr>\\n    <th aria-label=\"RankThis is a count of the rows from top to bottom.It is recalculated following the sorting of a column.\" class=\"ranker poptip sort_default_asc show_partial_when_sorting center\" data-stat=\"ranker\" data-tip=\"&lt;b&gt;Rank&lt;/b&gt;&lt;br&gt;This is a count of the rows from top to bottom.&lt;br&gt;It is recalculated following the sorting of a column.\" scope=\"col\">\\n     Rk\\n    </th>\\n    <th aria-label=\"Tm\" class=\"poptip sort_default_asc show_partial_when_sorting left\" data-stat=\"team\" scope=\"col\">\\n     Tm\\n    </th>\\n    <th aria-label=\"Games\" class=\"poptip center\" data-over-header=\"Games\" data-stat=\"g\" data-tip=\"Games played\" scope=\"col\">\\n     G\\n    </th>\\n    <th aria-label=\"Points For\" class=\"poptip center\" data-over-header=\"Points\" data-stat=\"points\" data-tip=\"Points Scored by team\" scope=\"col\">\\n     PF\\n    </th>\\n    <th aria-label=\"Yds\" class=\"poptip center\" data-stat=\"total_yards\" scope=\"col\">\\n     Yds\\n    </th>\\n    <th aria-label=\" Offensive Plays Run \" class=\"poptip center\" data-over-header=\"Tot Yds &amp; TO\" data-stat=\"plays_offense\" data-tip=\"Offensive Plays: Pass Attempts + Rush Attempts + Times Sacked\" scope=\"col\">\\n     Ply\\n    </th>\\n    <th aria-label=\" Yar'"
      ]
     },
     "execution_count": 246,
     "metadata": {},
     "output_type": "execute_result"
    }
   ],
   "source": [
    "#what the HTML looks like\n",
    "table.prettify()[0:2500]"
   ]
  },
  {
   "cell_type": "code",
   "execution_count": 124,
   "metadata": {},
   "outputs": [],
   "source": [
    "#function to rename some columns and columns that are missing titles from HTML table\n",
    "def rename_cols(df):\n",
    "    dict = {'Unnamed: 0_level_0':'TotOff',\n",
    "            'Unnamed: 1_level_0':'TotOff',\n",
    "            'Unnamed: 2_level_0':'TotOff',\n",
    "            'Unnamed: 3_level_0':'TotOff',\n",
    "            'Unnamed: 4_level_0':'TotOff',\n",
    "            'Tot Yds & TO':'TotOff',\n",
    "            'Tot Yds & TO':'TotOff',\n",
    "            'Tot Yds & TO':'TotOff',\n",
    "            'Unnamed: 8_level_0':'TotOff',\n",
    "            'Unnamed: 9_level_0':'TotOff',\n",
    "            'Unnamed: 25_level_0':'Score%',\n",
    "            'Unnamed: 26_level_0':'TurnOver%',\n",
    "            'Unnamed: 27_level_0':'EXP',}\n",
    "        \n",
    "    # call rename() method\n",
    "    df.rename(columns=dict,inplace=True)\n",
    "    return(df)\n"
   ]
  },
  {
   "cell_type": "code",
   "execution_count": 236,
   "metadata": {},
   "outputs": [],
   "source": [
    "#for loop to get data for X years\n",
    "\n",
    "\n",
    "year = 2020\n",
    "#URL for website data\n",
    "url = \"https://www.pro-football-reference.com/years/\"\n",
    "urls = []\n",
    "OFFdfs = []\n",
    "for index in np.arange(10):\n",
    "    #create URL for BeautifulSoup\n",
    "    urls.append(url + str(year - index) +'/')\n",
    "    years = year - index\n",
    "\n",
    "\n",
    "for index in urls:\n",
    "    soup = BeautifulSoup(requests.get(index).content, 'html.parser')\n",
    "    table = soup.select_one('#all_team_stats').find_next(text=lambda t: isinstance(t, Comment))\n",
    "    table = BeautifulSoup(table, 'html.parser')    \n",
    "    #create DF from html table, drop last 3 rows of data \n",
    "    OFFdfs.append(pd.read_html(str(table))[0].drop(df.index[-3:]))\n",
    "\n",
    "for index in np.arange(10):\n",
    "    #add Year to DF columns\n",
    "    curr_year = year - index\n",
    "    OFFdfs[index]['Year'] = curr_year\n",
    "\n",
    "#initialize Master Team Offense Dataframe    \n",
    "MasterOFF = OFFdfs[0]\n",
    "\n",
    "for i in range(len(OFFdfs)-1):    \n",
    "    #append DF to master, reset index to continuous\n",
    "    MasterOFF = MasterOFF.append(OFFdfs[i+1],ignore_index = True)\n",
    "\n",
    "#rename columns to useful index    \n",
    "MasterOFF = rename_cols(MasterOFF)\n",
    "\n"
   ]
  },
  {
   "cell_type": "code",
   "execution_count": 237,
   "metadata": {},
   "outputs": [
    {
     "name": "stdout",
     "output_type": "stream",
     "text": [
      "<class 'pandas.core.frame.DataFrame'>\n",
      "RangeIndex: 320 entries, 0 to 319\n",
      "Data columns (total 29 columns):\n",
      " #   Column              Non-Null Count  Dtype  \n",
      "---  ------              --------------  -----  \n",
      " 0   (TotOff, Rk)        320 non-null    float64\n",
      " 1   (TotOff, Tm)        320 non-null    object \n",
      " 2   (TotOff, G)         320 non-null    float64\n",
      " 3   (TotOff, PF)        320 non-null    float64\n",
      " 4   (TotOff, Yds)       320 non-null    float64\n",
      " 5   (TotOff, Ply)       320 non-null    float64\n",
      " 6   (TotOff, Y/P)       320 non-null    float64\n",
      " 7   (TotOff, TO)        320 non-null    float64\n",
      " 8   (TotOff, FL)        320 non-null    float64\n",
      " 9   (TotOff, 1stD)      320 non-null    float64\n",
      " 10  (Passing, Cmp)      320 non-null    float64\n",
      " 11  (Passing, Att)      320 non-null    float64\n",
      " 12  (Passing, Yds)      320 non-null    float64\n",
      " 13  (Passing, TD)       320 non-null    float64\n",
      " 14  (Passing, Int)      320 non-null    float64\n",
      " 15  (Passing, NY/A)     320 non-null    float64\n",
      " 16  (Passing, 1stD)     320 non-null    float64\n",
      " 17  (Rushing, Att)      320 non-null    float64\n",
      " 18  (Rushing, Yds)      320 non-null    float64\n",
      " 19  (Rushing, TD)       320 non-null    float64\n",
      " 20  (Rushing, Y/A)      320 non-null    float64\n",
      " 21  (Rushing, 1stD)     320 non-null    float64\n",
      " 22  (Penalties, Pen)    320 non-null    float64\n",
      " 23  (Penalties, Yds)    320 non-null    float64\n",
      " 24  (Penalties, 1stPy)  320 non-null    float64\n",
      " 25  (Score%, Sc%)       320 non-null    float64\n",
      " 26  (TurnOver%, TO%)    320 non-null    float64\n",
      " 27  (EXP, EXP)          320 non-null    float64\n",
      " 28  (Year, )            320 non-null    int64  \n",
      "dtypes: float64(27), int64(1), object(1)\n",
      "memory usage: 72.6+ KB\n"
     ]
    }
   ],
   "source": [
    "MasterOFF.info()"
   ]
  },
  {
   "cell_type": "code",
   "execution_count": 268,
   "metadata": {},
   "outputs": [
    {
     "data": {
      "text/plain": [
       "MultiIndex([(   'TotOff',    'Rk'),\n",
       "            (   'TotOff',    'Tm'),\n",
       "            (   'TotOff',     'G'),\n",
       "            (   'TotOff',    'PF'),\n",
       "            (   'TotOff',   'Yds'),\n",
       "            (   'TotOff',   'Ply'),\n",
       "            (   'TotOff',   'Y/P'),\n",
       "            (   'TotOff',    'TO'),\n",
       "            (   'TotOff',    'FL'),\n",
       "            (   'TotOff',  '1stD'),\n",
       "            (  'Passing',   'Cmp'),\n",
       "            (  'Passing',   'Att'),\n",
       "            (  'Passing',   'Yds'),\n",
       "            (  'Passing',    'TD'),\n",
       "            (  'Passing',   'Int'),\n",
       "            (  'Passing',  'NY/A'),\n",
       "            (  'Passing',  '1stD'),\n",
       "            (  'Rushing',   'Att'),\n",
       "            (  'Rushing',   'Yds'),\n",
       "            (  'Rushing',    'TD'),\n",
       "            (  'Rushing',   'Y/A'),\n",
       "            (  'Rushing',  '1stD'),\n",
       "            ('Penalties',   'Pen'),\n",
       "            ('Penalties',   'Yds'),\n",
       "            ('Penalties', '1stPy'),\n",
       "            (   'Score%',   'Sc%'),\n",
       "            ('TurnOver%',   'TO%'),\n",
       "            (      'EXP',   'EXP'),\n",
       "            (     'Year',      '')],\n",
       "           )"
      ]
     },
     "execution_count": 268,
     "metadata": {},
     "output_type": "execute_result"
    }
   ],
   "source": [
    "MasterOFF.keys()"
   ]
  },
  {
   "cell_type": "code",
   "execution_count": 277,
   "metadata": {},
   "outputs": [
    {
     "data": {
      "text/plain": [
       "<Figure size 720x720 with 0 Axes>"
      ]
     },
     "metadata": {},
     "output_type": "display_data"
    },
    {
     "data": {
      "image/png": "[encoded data removed]",
      "text/plain": [
       "<Figure size 1080x720 with 1 Axes>"
      ]
     },
     "metadata": {
      "needs_background": "light"
     },
     "output_type": "display_data"
    }
   ],
   "source": [
    "plt.figure(figsize=(10, 10))\n",
    "#pointsfor = MasterOFF.TotOff.PF\n",
    "MasterOFF.plot.scatter(\"Year\", [('TotOff','PF')] , figsize=(15, 10))\n",
    "plt.show()"
   ]
  },
  {
   "cell_type": "code",
   "execution_count": null,
   "metadata": {},
   "outputs": [],
   "source": []
  }
 ],
 "metadata": {
  "kernelspec": {
   "display_name": "Python 3",
   "language": "python",
   "name": "python3"
  },
  "language_info": {
   "codemirror_mode": {
    "name": "ipython",
    "version": 3
   },
   "file_extension": ".py",
   "mimetype": "text/x-python",
   "name": "python",
   "nbconvert_exporter": "python",
   "pygments_lexer": "ipython3",
   "version": "3.8.5"
  }
 },
 "nbformat": 4,
 "nbformat_minor": 4
}
