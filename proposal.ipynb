{
 "cells": [
  {
   "cell_type": "markdown",
   "metadata": {},
   "source": [
    "# Introduction to Data Science – Project\n",
    "*COMP 5360 / MATH 4100, University of Utah, http://datasciencecourse.net/*\n",
    "\n",
    "Project Super Bowl 55 winner based on in season statistics Correlation study on offense/defense statistics to determine key prediction factors. Use machine learning to predict final standings of playoffs."
   ]
  },
  {
   "cell_type": "markdown",
   "metadata": {},
   "source": [
    "## Your Data\n",
    "First Name: Scott\n",
    "<br>  \n",
    "Last Name: Stack\n",
    "<br>  \n",
    "E-mail: u0664997@utah.edu\n",
    "<br>  \n",
    "UID:  u0664997\n",
    "<br> \n",
    "\n",
    "First Name: Will\n",
    "<br>  \n",
    "Last Name: Gilliland\n",
    "<br>  \n",
    "E-mail: u0680231@utah.edu\n",
    "<br>  \n",
    "UID:  u0680231\n",
    "<br> "
   ]
  },
  {
   "cell_type": "markdown",
   "metadata": {},
   "source": [
    "## Background and Motivation. \n",
    "\n",
    "\n",
    "The goal of this analysis is to scrape web data for in-season National Football League (NFL) team statistics and project a ranking of probability to win Super Bowl 55. Some of the ambitions of this project include a correlation study on team defense and offense statistics to find key predictors of win percentage and train a model to rank teams for post-season playoffs and project a winner. This model can be confirmed because there is a known ranking in the 2020 post-season (i.e. Tampa Bay won SB55 over Kansas City). The interesting points will be which statistics correlate and can predict the outcome of a team's season. \n",
    "\n",
    "Partly motivating this research is if a model can be sufficiently accurate, perhaps this can be updated with future/current data to predict team standings and future winners. What makes each year unique is the high turnover and injury rate in the NFL, so a team's current makeup is not necessarily a good indication of future performance. It will be key to narrow the scope of the project as there are many variables that can change outcomes. For instance, there is a popular saying that 'Defense wins championships,' and the motivation for this project is to test this popular hypothesis. NFL teams that have strong defenses have appeared to win in most recent years but is this actually true? This hypothesis motivates questions like: are there in-season team statistics which can predict future wins?\n",
    "\n",
    "The analysis presented in this project will aim to outline these key statistics, correlation, and probability rankings of the 2020 season, with the ambition to train models to predict future rankings. \n",
    "\n"
   ]
  },
  {
   "cell_type": "markdown",
   "metadata": {},
   "source": [
    "## Project Objectives. \n",
    "\n",
    "The primary objective is finding key statistics from team offense and defense that correlates with wins. High-powered offense seems to suggest that a team can win games easily, like the Kansas City Chiefs, with a high point differential over other teams. On the other hand, a stonewall defense typically suggests a team can win by reducing the point differential and winning close games. Does one strength favor another when it comes to winning the post-season or do balanced teams have the advantage? This study aims to model past team statistics to definitively answer this question and project a champion based on current statistics. There is a known winner for every season and the model accuracy can be confirmed. "
   ]
  },
  {
   "cell_type": "markdown",
   "metadata": {},
   "source": [
    "## Data. \n",
    "From where and how are you collecting your data? If appropriate, provide a link to your data sources.\n",
    "\n",
    "\n"
   ]
  },
  {
   "cell_type": "markdown",
   "metadata": {},
   "source": [
    "## Ethical considerations. \n",
    "Complete a stakeholder analysis for your project.\n",
    "\n",
    "\n",
    "\n"
   ]
  },
  {
   "cell_type": "markdown",
   "metadata": {},
   "source": [
    "## Data Processing. \n",
    "Do you expect to do substantial data cleanup or data extraction? What quantities do you plan to derive from your data? How will data processing be implemented?"
   ]
  },
  {
   "cell_type": "markdown",
   "metadata": {},
   "source": [
    "\n",
    "## Exploratory Analysis.\n",
    "Which methods and visualizations are you planning to use to look at your dataset?"
   ]
  },
  {
   "cell_type": "markdown",
   "metadata": {},
   "source": [
    "## Analysis Methodology. \n",
    "How are you planning to analyze your data?"
   ]
  },
  {
   "cell_type": "markdown",
   "metadata": {},
   "source": [
    "## Project Schedule. \n",
    "Make sure that you plan your work so that you can avoid a big rush right before the final project deadline, and delegate different modules and responsibilities among your team members. Write this in terms of weekly deadlines."
   ]
  },
  {
   "cell_type": "code",
   "execution_count": null,
   "metadata": {},
   "outputs": [],
   "source": []
  }
 ],
 "metadata": {
  "kernelspec": {
   "display_name": "Python 3",
   "language": "python",
   "name": "python3"
  },
  "language_info": {
   "codemirror_mode": {
    "name": "ipython",
    "version": 3
   },
   "file_extension": ".py",
   "mimetype": "text/x-python",
   "name": "python",
   "nbconvert_exporter": "python",
   "pygments_lexer": "ipython3",
   "version": "3.8.5"
  }
 },
 "nbformat": 4,
 "nbformat_minor": 4
}
