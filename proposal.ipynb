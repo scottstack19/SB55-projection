{
 "cells": [
  {
   "cell_type": "markdown",
   "metadata": {},
   "source": [
    "# Introduction to Data Science – Project\n",
    "*COMP 5360 / MATH 4100, University of Utah, http://datasciencecourse.net/*\n",
    "\n",
    "Project Super Bowl 55 winner based on in season statistics Correlation study on offense/defense statistics to determine key prediction factors. Use machine learning to predict final standings of playoffs."
   ]
  },
  {
   "cell_type": "markdown",
   "metadata": {},
   "source": [
    "## Your Data\n",
    "First Name: Scott\n",
    "<br>  \n",
    "Last Name: Stack\n",
    "<br>  \n",
    "E-mail: u0664997@utah.edu\n",
    "<br>  \n",
    "UID:  u0664997\n",
    "<br> \n",
    "\n",
    "First Name: Will\n",
    "<br>  \n",
    "Last Name: Gilliland\n",
    "<br>  \n",
    "E-mail: u0680231@utah.edu\n",
    "<br>  \n",
    "UID:  u0680231\n",
    "<br> "
   ]
  },
  {
   "cell_type": "markdown",
   "metadata": {},
   "source": [
    "## Background and Motivation. \n",
    "\n",
    "\n",
    "The goal of this analysis is to scrape web data for in-season National Football League (NFL) team statistics and project a ranking of probability to win Super Bowl 55. Some of the ambitions of this project include a correlation study on team defense and offense statistics to find key predictors of win percentage and train a model to rank teams for post-season playoffs and project a winner. This model can be confirmed because there is a known ranking in the 2020 post-season (i.e. Tampa Bay won SB55 over Kansas City). The interesting points will be which statistics correlate and can predict the outcome of a team's season. \n",
    "\n",
    "Partly motivating this research is if a model can be sufficiently accurate, perhaps this can be updated with future/current data to predict team standings and future winners. What makes each year unique is the high turnover and injury rate in the NFL, so a team's current makeup is not necessarily a good indication of future performance. It will be key to narrow the scope of the project as there are many variables that can change outcomes. For instance, there is a popular saying that 'Defense wins championships,' and the motivation for this project is to test this popular hypothesis. NFL teams that have strong defenses have appeared to win in most recent years but is this actually true? This hypothesis motivates questions like: are there in-season team statistics which can predict future wins?\n",
    "\n",
    "The analysis presented in this project will aim to outline these key statistics, correlation, and probability rankings of the 2020 season, with the ambition to train models to predict future rankings. \n",
    "\n"
   ]
  },
  {
   "cell_type": "markdown",
   "metadata": {},
   "source": [
    "## Project Objectives. \n",
    "\n",
    "The primary objective is finding key statistics from team offense and defense that correlates with wins. High-powered offense seems to suggest that a team can win games easily, like the Kansas City Chiefs, with a high point differential over other teams. On the other hand, a stonewall defense typically suggests a team can win by reducing the point differential and winning close games. Does one strength favor another when it comes to winning the post-season or do balanced teams have the advantage? This study aims to model past team statistics to definitively answer this question and project a champion based on current statistics. There is a known winner for every season and the model accuracy can be confirmed. "
   ]
  },
  {
   "cell_type": "markdown",
   "metadata": {},
   "source": [
    "## Data. \n",
    "The data for the project will be obtained from [Pro Football Focus](https://www.pro-football-reference.com/), specifically the pages containing data from each year, i.e., [2007](https://www.pro-football-reference.com/years/2007/). Pages for each year readily contain team-based stats for the year as well as conference standings and results, which is the data that will be used to create models to make predictions. The intended method to obtain data will to be to scrape the site using the libraries [urllib](https://docs.python.org/3/library/urllib.html) to create HTML files for each page and [Beautiful Soup](https://www.crummy.com/software/BeautifulSoup/bs4/doc/) to gather relevent data from each url. The site is structured such that a for-loop can easily be written to collect data over a desired range of years.\n",
    "\n",
    "Based on the site's [terms of use](https://www.sports-reference.com/termsofuse.html) section 5. Permitted Use subsections (i) and (j):\n",
    "- \"(i) without our express written permission, use any automated means to access or use the Site, including scripts, bots, scrapers, data miners, or similar software, in a manner that adversely impacts site performance or access; or\"\n",
    "- (j) use any material or Content from the Site, including without limitation any statistics or data, (i) to create any database, archive, or other data store that competes with or constitutes a material substitute for the services or data stores offered on the Site or (ii) to provide any service that competes with or constitutes a material substitute for the services or data stores offered on the Site\"\n",
    "\n",
    "From these statements, the intended use for the project to quickly scrape data in a matter that will not slow traffic, makes changes to, or compete with the site is allowed without express permission.\n",
    "\n"
   ]
  },
  {
   "cell_type": "markdown",
   "metadata": {},
   "source": [
    "## Ethical considerations. \n",
    "\n",
    "There are incentives for many people to be interested in predicting future outcomes based on team statistics. General managers and coaches wishing to build a strong team may be interested in choosing draft or trade targets that enhance their chances of winning. Knowing if they need to focus on improving specific statistics can influence their strategy. Likewise, people that are interested in placing bets could be very interested in having a level of certainty. \n",
    "\n",
    "There are some biased factors that seem to have an influence on a team's success. For example, having an experienced post-season quarterback like Tom Brady may change the expected outcome of the team's success just based on their in-season win-loss record. Or, does the home-field 'advantage' have more influence on the outcomes than we think? Some biases can be treated as a binary variable and possibly show correlation while others may be difficult to capture.\n",
    "\n"
   ]
  },
  {
   "cell_type": "markdown",
   "metadata": {},
   "source": [
    "## Data Processing. \n",
    "Do you expect to do substantial data cleanup or data extraction? What quantities do you plan to derive from your data? How will data processing be implemented?\n",
    "\n",
    "Substantial data extraction methods should not be required. The HTML for each page is well organized with tabulated data that is easily accessed, as seen below. Extraction should only consist of creating an HTML for each url, parsing the HTML, and reading the desired tables into a data frame. Additionally after the data is extracted it will be saved to a csv file to use to reduce on the time spent extracting data and to reduce the use of the data-scraping script to better adhere to the terms of service of the site stated above. Cleanup of the data should not be intensive as the chosen data sets are extremely well documented.\n",
    "\n",
    "![](example_html1.jpg)\n"
   ]
  },
  {
   "cell_type": "markdown",
   "metadata": {},
   "source": [
    "\n",
    "## Exploratory Analysis.\n",
    "The data sets that will be used will contain many variables and it will be important to explore these to find which variables are predictive. The main exploratory visualization will be the use of a correlation matrix with further exploration through a scatterplot matrix. The results from this exploration should allow the removal of variables that do not appear to be predictive. This will allow for the creation of more accurate models used for analysis. Further exploration of these variables will be completed using a regression and predictiveness decided on the $R^2$ value for a regression model and the p-values for each variable. \n"
   ]
  },
  {
   "cell_type": "markdown",
   "metadata": {},
   "source": [
    "## Analysis Methodology. \n",
    "The first analysis method used will be a regression to aid in exploratory analysis. Further, a multiple regression will be used to compute a probability for a given team winning based on their stats. The probabilities to win can be vizualised as a curve to see the distribution of win probability. \n",
    "\n",
    "The second method will be classification using a k-nearest-neighbors and/or support-vector-machine. These classifaction models will first have parameters optimized based on accuracy of the model. After splitting the data into training and testing sets, the optimized model can be fit to the training set. The accuracy of the model on the testing set will confirm if the model is useful. This will be visualized with a classifcation cluster with decision boundaries. With a prediction that is binary, either a team wins the superbowl or they don't, this visualization method should allow for clear visualization of the accuracy of a model's prediction."
   ]
  },
  {
   "cell_type": "markdown",
   "metadata": {},
   "source": [
    "## Project Schedule. \n",
    "\n",
    "**Week 1:**\n",
    "\n",
    "- Create script to scrape the required data\n",
    "     - Create HTML from url\n",
    "     - Parse HTML and extract data\n",
    "     - Save data to csv for ease of use\n",
    "- Begin exploratory analysis\n",
    "\n",
    "**Week 2:**\n",
    "\n",
    "- Exploratory analysis\n",
    "    - Correlation matrix\n",
    "    - Visualization of corelation with scatterplot matrix\n",
    "- Decide which variables are predictive based on exploratory analysis\n",
    "- Compile results of exploratory analysis into document\n",
    "- Milestone due (April 11, 2021)\n",
    "\n",
    "**Week 3:**\n",
    "\n",
    "- Begin Analysis\n",
    "    - Regression\n",
    "        - Make model\n",
    "        - Test probabilities\n",
    "        - Visualization\n",
    "    - Classification\n",
    "        - Split data\n",
    "        - Find parameter values that produce most accurate results\n",
    "        - Create model based on optimal parameters\n",
    "        - Train model\n",
    "        - Predict\n",
    "        - Visualization\n",
    "        \n",
    "\n",
    "**Week 4:**\n",
    "\n",
    "- Finish Analysis\n",
    "- Compile Analysis results into document\n",
    "- Editing final submission\n",
    "- Project due (April 25, 2021)"
   ]
  },
  {
   "cell_type": "code",
   "execution_count": null,
   "metadata": {},
   "outputs": [],
   "source": []
  }
 ],
 "metadata": {
  "kernelspec": {
   "display_name": "Python 3",
   "language": "python",
   "name": "python3"
  },
  "language_info": {
   "codemirror_mode": {
    "name": "ipython",
    "version": 3
   },
   "file_extension": ".py",
   "mimetype": "text/x-python",
   "name": "python",
   "nbconvert_exporter": "python",
   "pygments_lexer": "ipython3",
   "version": "3.7.4"
  }
 },
 "nbformat": 4,
 "nbformat_minor": 4
}
